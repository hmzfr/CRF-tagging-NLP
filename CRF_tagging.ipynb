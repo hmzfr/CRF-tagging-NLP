{
  "nbformat": 4,
  "nbformat_minor": 0,
  "metadata": {
    "kernelspec": {
      "display_name": "Python 3",
      "language": "python",
      "name": "python3"
    },
    "language_info": {
      "codemirror_mode": {
        "name": "ipython",
        "version": 3
      },
      "file_extension": ".py",
      "mimetype": "text/x-python",
      "name": "python",
      "nbconvert_exporter": "python",
      "pygments_lexer": "ipython3",
      "version": "3.7.4"
    },
    "colab": {
      "name": "github ver.ipynb",
      "provenance": []
    }
  },
  "cells": [
    {
      "cell_type": "code",
      "metadata": {
        "colab": {
          "base_uri": "https://localhost:8080/"
        },
        "id": "1eQfBp7pi6Tv",
        "outputId": "b648078c-8fa5-4e4d-f73f-cccf715972e2"
      },
      "source": [
        "#!pip install python-crfsuite\n",
        "!pip install sklearn-pycrfsuite"
      ],
      "execution_count": null,
      "outputs": [
        {
          "output_type": "stream",
          "name": "stdout",
          "text": [
            "Requirement already satisfied: sklearn-pycrfsuite in /usr/local/lib/python3.7/dist-packages (0.4.0)\n",
            "Requirement already satisfied: tabulate in /usr/local/lib/python3.7/dist-packages (from sklearn-pycrfsuite) (0.8.9)\n",
            "Requirement already satisfied: python-crfsuite-extension in /usr/local/lib/python3.7/dist-packages (from sklearn-pycrfsuite) (0.9.7)\n",
            "Requirement already satisfied: six in /usr/local/lib/python3.7/dist-packages (from sklearn-pycrfsuite) (1.15.0)\n",
            "Requirement already satisfied: tqdm>=2.0 in /usr/local/lib/python3.7/dist-packages (from sklearn-pycrfsuite) (4.62.3)\n"
          ]
        }
      ]
    },
    {
      "cell_type": "code",
      "metadata": {
        "id": "t-aqhCcNi6Tx"
      },
      "source": [
        "import os\n",
        "import sys\n",
        "\n",
        "from copy import deepcopy\n",
        "from collections import Counter\n",
        "from nltk.tag import CRFTagger\n",
        "\n",
        "from sklearn.metrics import confusion_matrix\n",
        "from sklearn.metrics import precision_recall_fscore_support\n",
        "from sklearn.metrics import classification_report\n",
        "\n",
        "from matplotlib import pyplot as plt\n",
        "import numpy as np\n",
        "\n",
        "import re\n",
        "import unicodedata"
      ],
      "execution_count": null,
      "outputs": []
    },
    {
      "cell_type": "code",
      "metadata": {
        "id": "wIpMt-c7i6Tx"
      },
      "source": [
        "def get_raw_data_from_bio_file(fpath):\n",
        "    \"\"\"A simple function to read in from a one-word-per-line BIO\n",
        "    (Beginning, Inside, Outside) tagged corpus, tab separated\n",
        "    and each example sentence/text separated with a blank line.\n",
        "    The data is already tokenized in a simple way.\n",
        "    e.g.:\n",
        "    \n",
        "    B-Actor\tsteve\n",
        "    I-Actor\tmcqueen\n",
        "    O\tprovided\n",
        "    O\ta\n",
        "    B-Plot\tthrilling\n",
        "    I-Plot\tmotorcycle\n",
        "    I-Plot\tchase\n",
        "    I-Plot\tin\n",
        "    I-Plot\tthis\n",
        "    B-Opinion\tgreatest\n",
        "    I-Opinion\tof\n",
        "    I-Opinion\tall\n",
        "    B-Plot\tww\n",
        "    I-Plot\t2\n",
        "    I-Plot\tprison\n",
        "    I-Plot\tescape\n",
        "    I-Plot\tmovies\n",
        "    \n",
        "    returns a list of lists of tuples of (word, tag) tuples\n",
        "    \"\"\"\n",
        "    f = open(fpath)\n",
        "    data = []  # the data, a list of lists of (word, tag) tuples\n",
        "    current_sent = []  # data for current sentence/example\n",
        "    for line in f:\n",
        "        if line == \"\\n\":  # each instance has a blank line separating it from next one\n",
        "            # solution\n",
        "            data.append(current_sent)\n",
        "            current_sent = []\n",
        "            continue\n",
        "        line_data = line.strip(\"\\n\").split(\"\\t\")\n",
        "        current_sent.append((line_data[1], line_data[0]))\n",
        "    f.close()\n",
        "    return data"
      ],
      "execution_count": null,
      "outputs": []
    },
    {
      "cell_type": "code",
      "metadata": {
        "id": "xpcBDeOci6Ty"
      },
      "source": [
        "raw_training_data = get_raw_data_from_bio_file(\"trivia10k13train.bio.txt\")"
      ],
      "execution_count": null,
      "outputs": []
    },
    {
      "cell_type": "code",
      "metadata": {
        "id": "69BArXP_i6T3"
      },
      "source": [
        "# let's see how it does in testing on sentences\n",
        "def print_tags(sentence):\n",
        "    # a method to print out the sequence with its tags\n",
        "    tokens = sentence.split()\n",
        "    tags = [p[1] for p in ct.tag(tokens)]\n",
        "    for token, tag in zip(tokens, tags):\n",
        "        print(f'{token:12s}{tag}')"
      ],
      "execution_count": null,
      "outputs": []
    },
    {
      "cell_type": "code",
      "metadata": {
        "id": "db1UfYjni6T6"
      },
      "source": [
        "def confusion_matrix_heatmap(y_test, preds):\n",
        "    \"\"\"Function to plot a confusion matrix\"\"\"\n",
        "    labels = list(set(y_test))   # get the labels in the y_test\n",
        "    # print(labels)\n",
        "    cm = confusion_matrix(y_test, preds, labels=labels)\n",
        "    fig = plt.figure(figsize=(20,20))\n",
        "    ax = fig.add_subplot(111)\n",
        "    cax = ax.matshow(cm)\n",
        "    plt.title('Confusion matrix of the classifier')\n",
        "    fig.colorbar(cax)\n",
        "    ax.set_xticks(np.arange(len(labels)))\n",
        "    ax.set_yticks(np.arange(len(labels)))\n",
        "    ax.set_xticklabels( labels, rotation=45)\n",
        "    ax.set_yticklabels( labels)\n",
        "\n",
        "    for i in range(len(cm)):\n",
        "        for j in range(len(cm)):\n",
        "            text = ax.text(j, i, cm[i, j],\n",
        "                           ha=\"center\", va=\"center\", color=\"w\")\n",
        "\n",
        "    plt.xlabel('Predicted')\n",
        "    plt.ylabel('True')\n",
        "    #fig.tight_layout()\n",
        "    # fix for mpl bug that cuts off top/bottom of seaborn viz:\n",
        "    b, t = plt.ylim() # discover the values for bottom and top\n",
        "    b += 0.5 # Add 0.5 to the bottom\n",
        "    t -= 0.5 # Subtract 0.5 from the top\n",
        "    plt.ylim(b, t) # update the ylim(bottom, top) values\n",
        "    plt.show() # ta-da!\n",
        "\n",
        "    "
      ],
      "execution_count": null,
      "outputs": []
    },
    {
      "cell_type": "code",
      "metadata": {
        "id": "VSD0lqNRi6T7"
      },
      "source": [
        "def print_transition_weights(transitions):\n",
        "    \"\"\"Sort the transitions between states/labels from highest to\n",
        "    lowest strengths and print out.\"\"\"\n",
        "    ranked_transitions = [x for x in sorted(transitions,\n",
        "                                               key=lambda x:x[1], reverse=True)]\n",
        "    for (label_from, label_to), weight in ranked_transitions:\n",
        "        print(\"%0.6f %-8s -> %s\" % (weight, label_from, label_to))"
      ],
      "execution_count": null,
      "outputs": []
    },
    {
      "cell_type": "code",
      "metadata": {
        "id": "ruKe5Luai6T7"
      },
      "source": [
        "def print_most_predictive_state_features(state_features,\n",
        "                                         excluded_classes=[],\n",
        "                                         top_k=None):\n",
        "    \"\"\"Takes in the dict of state_features from a python crf-suite tagger,\n",
        "    orders them in terms of how predictive they are of different classes.\n",
        "    We assume we are not interested in O labels.\"\"\"\n",
        "    if not top_k:\n",
        "        top_k = len(state_features)  # assume we want to print all of them\n",
        "    ranked_state_features = [x for x in sorted(state_features, key=lambda x:x[1], reverse=True) \\\n",
        "         if x[0][1] not in excluded_classes][:top_k]\n",
        "    for (attr, label), weight in ranked_state_features:\n",
        "        print(\"%0.6f %-8s %s\" % (weight, label, attr))"
      ],
      "execution_count": null,
      "outputs": []
    },
    {
      "cell_type": "code",
      "metadata": {
        "colab": {
          "base_uri": "https://localhost:8080/"
        },
        "id": "DefmVtCNi6T9",
        "outputId": "3f791b3f-7f1d-4b2d-d2ef-03b899c75f35"
      },
      "source": [
        "# a postagger for use in exercises\n",
        "posttagger = CRFTagger()\n",
        "posttagger.set_model_file(\"crf_pos.tagger\")\n",
        "# example use:\n",
        "words = [\"john\", \"likes\", \"mary\", \"and\", \"bill\"]\n",
        "print(posttagger.tag(words))"
      ],
      "execution_count": null,
      "outputs": [
        {
          "output_type": "stream",
          "name": "stdout",
          "text": [
            "[('john', 'NNP'), ('likes', 'VBZ'), ('mary', 'JJ'), ('and', 'CC'), ('bill', 'NN')]\n"
          ]
        }
      ]
    },
    {
      "cell_type": "code",
      "metadata": {
        "id": "Wf75AglsOO75"
      },
      "source": [
        "def preProcess(example):\n",
        "    \"\"\"Function takes in list of (word, bio-tag) pairs, e.g.:\n",
        "        [('steve', 'B-Actor'), ('mcqueen', 'I-Actor'), ('provided', 'O'),\n",
        "        ('a', 'O'), ('thrilling', 'B-Plot'), ('motorcycle', 'I-Plot'),\n",
        "        ('chase', 'I-Plot'), ('in', 'I-Plot'), ('this', 'I-Plot'),\n",
        "        ('greatest', 'B-Opinion'), ('of', 'I-Opinion'), ('all', 'I-Opinion'),\n",
        "        ('ww', 'B-Plot'), ('2', 'I-Plot'), ('prison', 'I-Plot'),\n",
        "        ('escape', 'I-Plot'), ('movies', 'I-Plot')]\n",
        "        \n",
        "    returns new (token, bio-tag) pairs with preprocessing applied to the words\"\"\"\n",
        "\n",
        "    words, biotags = zip(*example) # unpack example, turn it into word and BIO tag.\n",
        "    posttagger = CRFTagger() # initialise postagger\n",
        "    posttagger.set_model_file(\"crf_pos.tagger\")\n",
        "    words_postags = posttagger.tag(words) # tag the words\n",
        "\n",
        "    w, postags = zip(*words_postags) # unpack words and postags\n",
        "    w = list(w) # convert words into a list\n",
        "    postags = list(postags) # convert postags into a list\n",
        "    postags = [\"@\" + tag for tag in postags] # add @ to the postags\n",
        "\n",
        "    w_pos = [i + j for i, j in zip(w, postags)] # add POSTAG to the word.\n",
        "    biotags = list(biotags) # convert biotags to list\n",
        "\n",
        "    # STICK THE BIOTAG BACK ON IT\n",
        "    w_pos_bio = list(zip(w_pos, biotags)) # turn the word with POSTAG and BIO tag into a new tuple.\n",
        "\n",
        "    preprocessed_example = w_pos_bio  \n",
        "    return preprocessed_example"
      ],
      "execution_count": null,
      "outputs": []
    },
    {
      "cell_type": "code",
      "metadata": {
        "id": "RxQPv_lySqL8"
      },
      "source": [
        "training_data = [preProcess(example) for example in raw_training_data]"
      ],
      "execution_count": null,
      "outputs": []
    },
    {
      "cell_type": "code",
      "metadata": {
        "colab": {
          "base_uri": "https://localhost:8080/"
        },
        "id": "OF65pojcSqMO",
        "outputId": "99e6a310-4f42-431b-f4df-edbbd56e0238"
      },
      "source": [
        "# check the effect of pre-processing\n",
        "print(training_data[0])"
      ],
      "execution_count": null,
      "outputs": [
        {
          "output_type": "stream",
          "name": "stdout",
          "text": [
            "[('steve@PRPVBP', 'B-Actor'), ('mcqueen@VBN', 'I-Actor'), ('provided@VBN', 'O'), ('a@DT', 'O'), ('thrilling@NN', 'B-Plot'), ('motorcycle@NN', 'I-Plot'), ('chase@NN', 'I-Plot'), ('in@IN', 'I-Plot'), ('this@DT', 'I-Plot'), ('greatest@JJS', 'B-Opinion'), ('of@IN', 'I-Opinion'), ('all@DT', 'I-Opinion'), ('ww@NNP', 'B-Plot'), ('2@NNP', 'I-Plot'), ('prison@NNP', 'I-Plot'), ('escape@NN', 'I-Plot'), ('movies@NNS', 'I-Plot')]\n"
          ]
        }
      ]
    },
    {
      "cell_type": "code",
      "metadata": {
        "colab": {
          "base_uri": "https://localhost:8080/"
        },
        "id": "b-cNKTs4SqMP",
        "outputId": "298157fa-0fd3-49a2-869d-c355403b9ebe"
      },
      "source": [
        "# Train test split on training_data.\n",
        "\n",
        "# print(training_data[0][1][0])\n",
        "\n",
        "first_80 = round(len(training_data) * 0.8)\n",
        "\n",
        "training = training_data[0:first_80]\n",
        "development = training_data[first_80:]\n",
        "\n",
        "print(len(training))\n",
        "print(len(development))\n"
      ],
      "execution_count": null,
      "outputs": [
        {
          "output_type": "stream",
          "name": "stdout",
          "text": [
            "6253\n",
            "1563\n"
          ]
        }
      ]
    },
    {
      "cell_type": "code",
      "metadata": {
        "id": "0E_cwikeUUh3"
      },
      "source": [
        "_pattern = re.compile(r\"\\d\")  # to recognize numbers/digits\n",
        "import time\n",
        "# This is the 'out-of-the-box' get_features function from the nltk CRF tagger\n",
        "def get_features(tokens, idx):\n",
        "    \"\"\"\n",
        "    Extract basic features about this word including\n",
        "         - Current Word\n",
        "         - Is Capitalized ?\n",
        "         - Has Punctuation ?\n",
        "         - Has Number ?\n",
        "         - Suffixes up to length 3\n",
        "    Note that : we might include feature over previous word, next word ect.\n",
        "\n",
        "    :return : a list which contains the features\n",
        "    :rtype : list(str)\n",
        "\n",
        "    \"\"\"\n",
        "    token = tokens[idx]\n",
        "    feature_list = []\n",
        "\n",
        "    tokens_length = len(tokens)\n",
        "\n",
        "    word_postag = token.split(\"@\") # Split the word\n",
        "    token = word_postag[0] # token = word\n",
        "\n",
        "    if not token:\n",
        "        return feature_list\n",
        "    \n",
        "    # Capitalization\n",
        "    if token[0].isupper():\n",
        "        feature_list.append(\"CAPITALIZATION\")\n",
        "\n",
        "    # Number\n",
        "    if re.search(_pattern, token) is not None:\n",
        "        feature_list.append(\"HAS_NUM\")\n",
        "\n",
        "    # Punctuation\n",
        "    punc_cat = set([\"Pc\", \"Pd\", \"Ps\", \"Pe\", \"Pi\", \"Pf\", \"Po\"])\n",
        "    if all(unicodedata.category(x) in punc_cat for x in token):\n",
        "        feature_list.append(\"PUNCTUATION\")\n",
        "\n",
        "    # Suffix up to length 3\n",
        "    if len(token) > 1:\n",
        "        feature_list.append(\"SUF_\" + token[-1:])\n",
        "    if len(token) > 2:\n",
        "        feature_list.append(\"SUF_\" + token[-2:])\n",
        "    if len(token) > 3:\n",
        "        feature_list.append(\"SUF_\" + token[-3:])\n",
        "    #-------Q5----------#\n",
        "    if len(token) > 4: # Added suffix up to length 4.\n",
        "      feature_list.append(\"SUF_\" + token[-4:])\n",
        "\n",
        "    feature_list.append(\"WORD_\" + token)\n",
        "    feature_list.append(\"POSTAG_\" + word_postag[1])\n",
        "\n",
        "    if idx > 0: # Q5 - add previous word, previous postag as features, check to make sure its 2nd word in the sentence.\n",
        "      prevtoken = tokens[idx-1]\n",
        "      prevword_prevpostag = prevtoken.split(\"@\")\n",
        "      feature_list.append(\"PREVWORD_\" + prevword_prevpostag[0])\n",
        "      feature_list.append(\"PREVPOSTAG_\" + prevword_prevpostag[1])\n",
        "\n",
        "    if idx > 1: # Q5 - add word/postag before previous word, previous postag as features, check to make sure its 3nd word in the sentence.\n",
        "      prevtoken = tokens[idx-2]\n",
        "      prevword_prevpostag = prevtoken.split(\"@\")\n",
        "      feature_list.append(\"PREVWORD2_\" + prevword_prevpostag[0])\n",
        "      feature_list.append(\"PREVPOSTAG2_\" + prevword_prevpostag[1])\n",
        "\n",
        "    # Prefix up to length 3\n",
        "\n",
        "    if len(token) > 1:\n",
        "        feature_list.append(\"PREF_\" + token[0])\n",
        "    if len(token) > 2:\n",
        "        feature_list.append(\"PREF_\" + token[0:2])\n",
        "    if len(token) > 3:\n",
        "        feature_list.append(\"PREF_\" + token[0:3])\n",
        "\n",
        "    # THESE DID NOT IMPROVE THE SCORE.\n",
        "\n",
        "    # Prefix to length 4:\n",
        "\n",
        "    # if len(token) > 4:\n",
        "    #     feature_list.append(\"PREF_\" + token[0:4])\n",
        "\n",
        "    # Next word, next postag:\n",
        "\n",
        "    # if idx < tokens_length-1:\n",
        "    #   next_token = tokens[idx+1]\n",
        "    #   next_token_pos = next_token.split(\"@\")\n",
        "    #   feature_list.append(\"NEXTWORD_\" + next_token_pos[0])\n",
        "    #   feature_list.append(\"NEXTPOSTAG_\" + next_token_pos[1])\n",
        "\n",
        "    # 2 words forward, 2 postags forward:\n",
        "\n",
        "    # if idx < tokens_length-2:\n",
        "    #   next_token = tokens[idx+2]\n",
        "    #   next_token_pos = next_token.split(\"@\")\n",
        "    #   feature_list.append(\"NEXTWORD2_\" + next_token_pos[0])\n",
        "    #   feature_list.append(\"NEXTPOSTAG2_\" + next_token_pos[1])\n",
        "\n",
        "    return feature_list"
      ],
      "execution_count": null,
      "outputs": []
    },
    {
      "cell_type": "code",
      "metadata": {
        "colab": {
          "base_uri": "https://localhost:8080/"
        },
        "id": "y0dfuYdvXib6",
        "outputId": "488722b0-af9a-4163-c26b-633ad19d3f0c"
      },
      "source": [
        "# Train the CRF BIO-tag tagger\n",
        "TAGGER_PATH = \"crf_nlu.tagger\"  # path to the tagger- it will save/access the model from here\n",
        "ct = CRFTagger(feature_func=get_features, training_opt={\"c1\":0.4, \"c2\":0.61, \"feature.minfreq\":0})  # initialize tagger with get_features function\n",
        "\n",
        "print(\"training tagger...\")\n",
        "ct.train(training, TAGGER_PATH)\n",
        "print(\"done\")"
      ],
      "execution_count": null,
      "outputs": [
        {
          "output_type": "stream",
          "name": "stdout",
          "text": [
            "training tagger...\n",
            "done\n"
          ]
        }
      ]
    },
    {
      "cell_type": "code",
      "metadata": {
        "colab": {
          "base_uri": "https://localhost:8080/"
        },
        "id": "aye0VsrkXicA",
        "outputId": "82bc4c09-953f-465f-c66d-2d7c9a2bd271"
      },
      "source": [
        "# load tagger from saved file\n",
        "ct = CRFTagger(feature_func=get_features)  # initialize tagger\n",
        "ct.set_model_file(TAGGER_PATH)  # load model from file\n",
        "\n",
        "# prepare the test data:\n",
        "print(len(development), \"instances\")\n",
        "print(sum([len(sent) for sent in development]), \"words\")"
      ],
      "execution_count": null,
      "outputs": [
        {
          "output_type": "stream",
          "name": "stdout",
          "text": [
            "1563 instances\n",
            "31282 words\n"
          ]
        }
      ]
    },
    {
      "cell_type": "code",
      "metadata": {
        "colab": {
          "base_uri": "https://localhost:8080/"
        },
        "id": "McAxSuJcXicA",
        "outputId": "fc07ba42-b385-4214-f7c9-fadb221ea10e"
      },
      "source": [
        "print(\"testing tagger...\")\n",
        "print()\n",
        "preds = []\n",
        "y_test = []\n",
        "fp_count = 0 # Counter is used for full counts of FP for a given class\n",
        "fn_count = 0 # Counter is used for full counts of FN for a given class\n",
        "low_prec_class = \"I-Opinion\" # Classes with low precision are: B-Soundtrack, I-Soundtrack, I-Opinion, B-Opinion, B-Plot\n",
        "low_recall_class = \"I-Soundtrack\" # Classes with low recall are: I-Soundtrack, B-Soundtrack, I-Opinion, I-Character_Name, B-Quote\n",
        "\n",
        "# For each sentence in development set\n",
        "for sent in development:\n",
        "    sent_preds = [x[1] for x in ct.tag([s[0] for s in sent])] # Tagging the word in sentence. \n",
        "    sent_true = [s[1] for s in sent] # The true tags \n",
        "    preds.extend(sent_preds) # Add the predictions to preds\n",
        "    y_test.extend(sent_true) # Add the true tags to y_test\n",
        "\n",
        "    # # Change the low_prec_class and low_recall_class variable to a different class to find out the FP/FN for that class.\n",
        "\n",
        "    # #----------------------FALSE POSITIVES--------------------------#\n",
        "\n",
        "    for p, t in zip(sent_preds, sent_true):\n",
        "      # If the prediction is equal to the given class, and the true label is not equal to the given class\n",
        "      if p == low_prec_class and t != low_prec_class: # change both to == for true positives\n",
        "      # Print the sentence, true tag, and prediction with some formatting\n",
        "        print(\"FP:\")\n",
        "        print(\"SENTENCE: \", ' '.join([x[0] for x in sent])) \n",
        "        print(\"TRUE TAG: \", ', '.join([x[1] for x in sent]))\n",
        "        print(\"PREDICTION: \", ', '.join(sent_preds))\n",
        "        print()\n",
        "        fp_count = fp_count+1 # counter for number of FP\n",
        "        break # Break to only print each sentence once as soon as the first FP of the sentence is found. Remove the break if you want full counts of FP.\n",
        "\n",
        "    # #----------------------FALSE NEGATIVES--------------------------#\n",
        "\n",
        "    # for p, t in zip(sent_preds, sent_true):\n",
        "    #   if p != low_recall_class and t == low_recall_class:\n",
        "    #     # If the prediction is not equal to the given class, and the true label is equal to the given class\n",
        "    #   # Print the sentence, true tag, and prediction with some formatting\n",
        "    #     print(\"FN:\")\n",
        "    #     print(\"SENTENCE: \", ' '.join([x[0] for x in sent]))\n",
        "    #     print(\"TRUE TAG: \", ', '.join([x[1] for x in sent]))\n",
        "    #     print(\"PREDICTION: \", ', '.join(sent_preds))\n",
        "    #     print()\n",
        "    #     fn_count = fn_count+1 # counter for number of false negatives\n",
        "    #     break # Break to only print each sentence once as soon as the first FN of the sentence is found. Remove the break if you want full counts of FP.\n",
        "        \n",
        "print(\"done\")\n",
        "\n",
        "# print(\"Number of sentences which have a FP/FN. Comment out the break in each loop for number of words with FP/FN.\")\n",
        "# print(\"FP count:\", fp_count)\n",
        "# print(\"FN count:\", fn_count)"
      ],
      "execution_count": null,
      "outputs": [
        {
          "output_type": "stream",
          "name": "stdout",
          "text": [
            "testing tagger...\n",
            "\n",
            "FP:\n",
            "SENTENCE:  this@DT computer@NN animated@JJ comedy@NN features@NNS the@DT voice@NN of@IN steve@NNP carrell@NNP as@IN the@DT villainous@JJ but@CC likeable@JJ gru@NN\n",
            "TRUE TAG:  O, B-Genre, I-Genre, I-Genre, O, O, O, O, B-Actor, I-Actor, O, O, O, O, O, B-Character_Name\n",
            "PREDICTION:  O, B-Genre, I-Genre, I-Genre, O, O, O, O, B-Actor, I-Actor, O, O, B-Opinion, I-Opinion, I-Opinion, I-Opinion\n",
            "\n",
            "FP:\n",
            "SENTENCE:  this@DT fun@NN bird@NN watching@VBG comedy@NN from@IN 2011@NNP stars@NNP jack@NNP black@NNP owen@NNP wilson@NNP and@CC steve@NNP martin@NNP\n",
            "TRUE TAG:  O, O, O, O, B-Genre, O, B-Year, O, B-Actor, I-Actor, I-Actor, I-Actor, O, B-Actor, I-Actor\n",
            "PREDICTION:  O, B-Opinion, I-Opinion, I-Opinion, B-Genre, O, B-Year, O, B-Actor, I-Actor, I-Actor, I-Actor, O, B-Actor, I-Actor\n",
            "\n",
            "FP:\n",
            "SENTENCE:  this@DT movie@NN features@NNS a@DT boat@NN who@WP was@VBD commonly@RB thought@VBD to@TO be@VB too@RB large@JJ to@TO sink@VB but@CC still@RB did@VBD\n",
            "TRUE TAG:  O, O, O, B-Plot, I-Plot, I-Plot, I-Plot, I-Plot, I-Plot, I-Plot, I-Plot, I-Plot, I-Plot, I-Plot, I-Plot, I-Plot, I-Plot, I-Plot\n",
            "PREDICTION:  O, O, O, O, O, O, O, B-Opinion, I-Opinion, I-Opinion, I-Opinion, I-Opinion, I-Opinion, I-Opinion, I-Opinion, I-Opinion, I-Opinion, I-Opinion\n",
            "\n",
            "FP:\n",
            "SENTENCE:  this@DT zombie@NNP thriller@NNP directed@NNP by@NNP george@NNP a@NNP romero@NNP set@NNP the@DT stage@NN for@IN the@DT modern@JJ zombie@NN movie@NN scene@NN and@CC is@VBZ considered@VBN to@TO be@VB one@CD of@IN the@DT greatest@JJS horror@NN movies@NNS of@IN all@DT time@NN\n",
            "TRUE TAG:  O, B-Genre, I-Genre, O, O, B-Director, I-Director, I-Director, O, O, O, O, O, B-Plot, I-Plot, I-Plot, I-Plot, O, O, O, O, O, O, O, O, B-Opinion, B-Genre, O, O, O, O\n",
            "PREDICTION:  O, B-Genre, I-Genre, O, O, B-Director, I-Director, I-Director, O, O, O, O, O, O, O, O, O, O, O, B-Opinion, I-Opinion, I-Opinion, I-Opinion, I-Opinion, I-Opinion, I-Opinion, I-Opinion, I-Opinion, I-Opinion, I-Opinion, I-Opinion\n",
            "\n",
            "FP:\n",
            "SENTENCE:  what@WP 1965@DT cartoon@NN is@VBZ a@DT timeless@NN classic@NN starring@VBG the@DT lovable@JJ charlie@NNP brown@NNP and@CC his@PRP$ dog@NN snoopy@NN\n",
            "TRUE TAG:  O, B-Year, B-Genre, O, O, O, B-Genre, O, O, O, B-Character_Name, I-Character_Name, O, O, O, B-Character_Name\n",
            "PREDICTION:  O, B-Year, B-Genre, O, O, B-Opinion, I-Opinion, O, O, O, B-Character_Name, I-Character_Name, B-Plot, I-Plot, I-Plot, I-Plot\n",
            "\n",
            "FP:\n",
            "SENTENCE:  what@WP classic@NNP 1941@NNP orson@NNP welles@NNP film@NN is@VBZ often@RB considered@VBN the@DT greatest@JJS movie@NN of@IN all@DT time@NN\n",
            "TRUE TAG:  O, B-Opinion, B-Year, B-Director, I-Director, O, O, O, O, O, B-Opinion, I-Opinion, I-Opinion, I-Opinion, I-Opinion\n",
            "PREDICTION:  O, B-Opinion, B-Year, B-Director, I-Director, O, O, O, B-Opinion, I-Opinion, I-Opinion, I-Opinion, I-Opinion, I-Opinion, I-Opinion\n",
            "\n",
            "FP:\n",
            "SENTENCE:  what@WP classic@JJ thriller@NN about@IN an@DT enormous@JJ killer@NN shark@NN spawned@VBD one@CD of@IN the@DT most@RBS popular@JJ movie@NN themes@NNS of@IN all@DT time@NN\n",
            "TRUE TAG:  O, B-Opinion, B-Genre, O, B-Plot, I-Plot, I-Plot, I-Plot, O, B-Soundtrack, I-Soundtrack, I-Soundtrack, I-Soundtrack, I-Soundtrack, I-Soundtrack, I-Soundtrack, I-Soundtrack, I-Soundtrack, I-Soundtrack\n",
            "PREDICTION:  O, B-Genre, I-Genre, O, B-Plot, I-Plot, I-Plot, I-Plot, O, O, O, O, B-Opinion, I-Opinion, I-Opinion, I-Opinion, I-Opinion, I-Opinion, I-Opinion\n",
            "\n",
            "FP:\n",
            "SENTENCE:  what@WP is@VBZ the@DT arguably@RB most@RBS popular@JJ 1973@NN horror@NN film@NN about@IN a@DT young@JJ girl@NN who@WP is@VBZ possessed@VBN by@IN a@DT demon@NN\n",
            "TRUE TAG:  O, O, O, O, B-Opinion, I-Opinion, B-Year, B-Genre, O, O, B-Plot, I-Plot, I-Plot, I-Plot, I-Plot, I-Plot, I-Plot, I-Plot, I-Plot\n",
            "PREDICTION:  O, O, O, B-Opinion, I-Opinion, I-Opinion, B-Year, B-Genre, O, O, B-Plot, I-Plot, I-Plot, I-Plot, I-Plot, I-Plot, I-Plot, I-Plot, I-Plot\n",
            "\n",
            "FP:\n",
            "SENTENCE:  what@WP is@VBZ the@DT most@RBS famous@JJ comedy@NN about@IN air@NN travel@NN that@WDT was@VBD made@VBN in@IN 1980@NNP and@CC parodies@NNS disaster@JJR films@NNS\n",
            "TRUE TAG:  O, O, O, O, B-Opinion, B-Genre, B-Plot, I-Plot, I-Plot, O, O, O, O, B-Year, O, B-Plot, I-Plot, I-Plot\n",
            "PREDICTION:  O, O, O, B-Opinion, I-Opinion, B-Genre, O, B-Plot, I-Plot, I-Plot, I-Plot, I-Plot, I-Plot, I-Plot, I-Plot, I-Plot, I-Plot, I-Plot\n",
            "\n",
            "FP:\n",
            "SENTENCE:  what@WP is@VBZ the@DT sequel@NN to@IN the@DT sylvester@NN stallone@NN movies@NNS that@WDT star@NN at@IN least@JJS 8@NN well@UH known@NNP action@NNP stars@NNP jason@NNP statham@NNP jet@NNP li@NNP jean@NNP claude@NNP van@NNP damme@NNP bruce@NNP willis@NNP arnold@NNP schwarzenegger@NNP chuck@NNP norris@NNP terry@NNP crews@NNP\n",
            "TRUE TAG:  O, O, O, B-Relationship, O, O, B-Actor, I-Actor, O, O, O, O, O, O, O, O, B-Genre, O, B-Actor, I-Actor, I-Actor, I-Actor, I-Actor, I-Actor, I-Actor, I-Actor, I-Actor, I-Actor, I-Actor, I-Actor, I-Actor, I-Actor, I-Actor, I-Actor\n",
            "PREDICTION:  O, O, O, B-Relationship, O, O, B-Actor, I-Actor, O, O, O, O, B-Opinion, I-Opinion, I-Opinion, I-Opinion, B-Genre, O, B-Actor, I-Actor, I-Actor, I-Actor, I-Actor, I-Actor, I-Actor, I-Actor, I-Actor, I-Actor, I-Actor, I-Actor, I-Actor, I-Actor, I-Actor, I-Actor\n",
            "\n",
            "FP:\n",
            "SENTENCE:  what@WP is@VBZ this@DT segorney@NN weaver@RB classic@JJ that@DT depicts@NNS her@PRP as@IN a@DT space@NN marine@NN\n",
            "TRUE TAG:  O, O, O, B-Actor, I-Actor, B-Opinion, O, B-Plot, I-Plot, I-Plot, I-Plot, I-Plot, I-Plot\n",
            "PREDICTION:  O, O, O, B-Opinion, I-Opinion, I-Opinion, O, B-Plot, I-Plot, I-Plot, I-Plot, I-Plot, I-Plot\n",
            "\n",
            "FP:\n",
            "SENTENCE:  what@WP was@VBD director@NNP akira@NNP kurosawa@NNP s@NNP last@JJ large@JJ budget@NN film@NN and@CC the@DT most@RBS expensive@JJ japanese@NN film@NN made@VBD in@IN 1985@NNP\n",
            "TRUE TAG:  O, O, O, B-Director, I-Director, O, O, O, O, O, O, O, O, O, O, O, O, O, B-Year\n",
            "PREDICTION:  O, O, O, B-Director, I-Director, O, O, O, O, O, O, O, B-Opinion, I-Opinion, B-Genre, O, O, O, B-Year\n",
            "\n",
            "FP:\n",
            "SENTENCE:  which@WDT iconic@JJ detective@JJ movie@NN has@VBZ a@DT young@JJ clint@NN eastwood@NN uttering@VBG the@DT words@NNS make@VBP my@PRP$ day@NN\n",
            "TRUE TAG:  O, B-Opinion, B-Genre, O, O, O, O, B-Actor, I-Actor, O, O, O, B-Quote, I-Quote, I-Quote\n",
            "PREDICTION:  O, B-Opinion, I-Opinion, O, O, O, O, B-Actor, I-Actor, B-Plot, I-Plot, I-Plot, I-Plot, I-Plot, I-Plot\n",
            "\n",
            "done\n"
          ]
        }
      ]
    },
    {
      "cell_type": "code",
      "metadata": {
        "colab": {
          "base_uri": "https://localhost:8080/"
        },
        "id": "LZvY-WLgXicA",
        "outputId": "3e92f7a9-de97-4bbd-9d80-b40f67e2492d"
      },
      "source": [
        "# Output the classification report (which you should save each time for comparing your models)\n",
        "print(classification_report(y_test, preds))\n",
        "print(precision_recall_fscore_support(y_test, preds, average='macro'))  # print out accurate macro score"
      ],
      "execution_count": null,
      "outputs": [
        {
          "output_type": "stream",
          "name": "stdout",
          "text": [
            "                  precision    recall  f1-score   support\n",
            "\n",
            "         B-Actor       0.91      0.94      0.92      1229\n",
            "         B-Award       0.77      0.68      0.72        74\n",
            "B-Character_Name       0.77      0.41      0.53       212\n",
            "      B-Director       0.92      0.80      0.85       472\n",
            "         B-Genre       0.87      0.84      0.85       805\n",
            "       B-Opinion       0.54      0.32      0.40       160\n",
            "        B-Origin       0.60      0.50      0.55       159\n",
            "          B-Plot       0.52      0.48      0.50      1219\n",
            "         B-Quote       0.82      0.38      0.51        24\n",
            "  B-Relationship       0.80      0.51      0.62       125\n",
            "    B-Soundtrack       0.75      0.46      0.57        13\n",
            "          B-Year       0.98      0.99      0.98       702\n",
            "         I-Actor       0.91      0.94      0.92      1729\n",
            "         I-Award       0.79      0.82      0.80       202\n",
            "I-Character_Name       0.80      0.43      0.56       165\n",
            "      I-Director       0.93      0.78      0.84       456\n",
            "         I-Genre       0.79      0.77      0.78       576\n",
            "       I-Opinion       0.21      0.14      0.17        84\n",
            "        I-Origin       0.73      0.76      0.74       729\n",
            "          I-Plot       0.89      0.93      0.91     11438\n",
            "         I-Quote       0.86      0.39      0.54       176\n",
            "  I-Relationship       0.75      0.44      0.55       240\n",
            "    I-Soundtrack       0.82      0.34      0.48        41\n",
            "          I-Year       0.85      0.67      0.75        33\n",
            "               O       0.86      0.87      0.87     10219\n",
            "\n",
            "        accuracy                           0.86     31282\n",
            "       macro avg       0.78      0.62      0.68     31282\n",
            "    weighted avg       0.86      0.86      0.85     31282\n",
            "\n",
            "(0.7775726078768085, 0.6229437979116395, 0.6780731323128264, None)\n"
          ]
        }
      ]
    },
    {
      "cell_type": "markdown",
      "metadata": {
        "id": "254xtZvrdCKb"
      },
      "source": [
        "MACRO AVERGAGE F1 SCORE: **0.68**"
      ]
    },
    {
      "cell_type": "code",
      "metadata": {
        "colab": {
          "base_uri": "https://localhost:8080/",
          "height": 1000
        },
        "id": "Y4ri82bxXicB",
        "outputId": "55d4ea7e-2a1b-4ed4-8a3d-e9b1c13c7606"
      },
      "source": [
        "confusion_matrix_heatmap(y_test, preds)"
      ],
      "execution_count": null,
      "outputs": [
        {
          "output_type": "display_data",
          "data": {
            "image/png": "[encoded data removed]",
            "text/plain": [
              "<Figure size 1440x1440 with 2 Axes>"
            ]
          },
          "metadata": {
            "needs_background": "light"
          }
        }
      ]
    },
    {
      "cell_type": "code",
      "metadata": {
        "id": "PNkof1WbXicB"
      },
      "source": [
        "print_transition_weights(ct._tagger.info().transitions.items())"
      ],
      "execution_count": null,
      "outputs": []
    },
    {
      "cell_type": "code",
      "metadata": {
        "id": "ouYyOoPDXicB"
      },
      "source": [
        "print_most_predictive_state_features(ct._tagger.info().state_features.items())"
      ],
      "execution_count": null,
      "outputs": []
    },
    {
      "cell_type": "code",
      "metadata": {
        "colab": {
          "base_uri": "https://localhost:8080/"
        },
        "id": "6CfuxwZWi6T_",
        "outputId": "fea8d3e6-a9b3-466f-e1d4-09c213327052"
      },
      "source": [
        "# Final results on original test data, using all training data, with best settings from dev set:\n",
        "\n",
        "# prepare the test data:\n",
        "raw_test_data = get_raw_data_from_bio_file(\"trivia10k13test.bio.txt\") \n",
        "test_data = [preProcess(example) for example in raw_test_data]\n",
        "print(len(test_data), \"instances\")\n",
        "print(sum([len(sent) for sent in test_data]), \"words\")\n",
        "\n",
        "\n",
        "# Train the CRF BIO-tag tagger on all training data\n",
        "TAGGER_PATH = \"crf_nlu.tagger\"  # path to the tagger- it will save/access the model from here\n",
        "ct = CRFTagger(feature_func=get_features, training_opt={\"c1\":0.4, \"c2\":0.61, \"feature.minfreq\":0})  # initialize tagger with get_features function\n",
        "\n",
        "print(\"training tagger...\")\n",
        "ct.train(training_data, TAGGER_PATH)\n",
        "print(\"done\")\n",
        "\n",
        "# load tagger from saved file\n",
        "ct = CRFTagger(feature_func=get_features)  # initialize tagger\n",
        "ct.set_model_file(TAGGER_PATH)  # load model from file\n",
        "\n",
        "print(len(test_data), \"instances\")\n",
        "print(sum([len(sent) for sent in test_data]), \"words\")\n",
        "\n",
        "print(\"testing tagger on test data...\")\n",
        "preds = []\n",
        "y_test = []\n",
        "for sent in test_data:\n",
        "    sent_preds = [x[1] for x in ct.tag([s[0] for s in sent])]\n",
        "    sent_true = [s[1] for s in sent]\n",
        "    preds.extend(sent_preds)\n",
        "    y_test.extend(sent_true)\n",
        "print(\"done\")"
      ],
      "execution_count": null,
      "outputs": [
        {
          "output_type": "stream",
          "name": "stdout",
          "text": [
            "1953 instances\n",
            "39035 words\n",
            "training tagger...\n",
            "done\n",
            "1953 instances\n",
            "39035 words\n",
            "testing tagger on test data...\n",
            "done\n"
          ]
        }
      ]
    },
    {
      "cell_type": "code",
      "metadata": {
        "colab": {
          "base_uri": "https://localhost:8080/"
        },
        "id": "M9Q7Ntkmi6UA",
        "outputId": "2a3430a5-e303-4cd0-c573-913fa06c6380"
      },
      "source": [
        "print(classification_report(y_test, preds))\n",
        "print(precision_recall_fscore_support(y_test, preds, average='macro'))"
      ],
      "execution_count": null,
      "outputs": [
        {
          "output_type": "stream",
          "name": "stderr",
          "text": [
            "/usr/local/lib/python3.7/dist-packages/sklearn/metrics/_classification.py:1318: UndefinedMetricWarning: Precision and F-score are ill-defined and being set to 0.0 in labels with no predicted samples. Use `zero_division` parameter to control this behavior.\n",
            "  _warn_prf(average, modifier, msg_start, len(result))\n",
            "/usr/local/lib/python3.7/dist-packages/sklearn/metrics/_classification.py:1318: UndefinedMetricWarning: Precision and F-score are ill-defined and being set to 0.0 in labels with no predicted samples. Use `zero_division` parameter to control this behavior.\n",
            "  _warn_prf(average, modifier, msg_start, len(result))\n",
            "/usr/local/lib/python3.7/dist-packages/sklearn/metrics/_classification.py:1318: UndefinedMetricWarning: Precision and F-score are ill-defined and being set to 0.0 in labels with no predicted samples. Use `zero_division` parameter to control this behavior.\n",
            "  _warn_prf(average, modifier, msg_start, len(result))\n"
          ]
        },
        {
          "output_type": "stream",
          "name": "stdout",
          "text": [
            "                  precision    recall  f1-score   support\n",
            "\n",
            "         B-Actor       0.91      0.93      0.92      1274\n",
            "         B-Award       0.70      0.70      0.70        66\n",
            "B-Character_Name       0.70      0.44      0.54       283\n",
            "      B-Director       0.87      0.85      0.86       425\n",
            "         B-Genre       0.84      0.79      0.81       789\n",
            "       B-Opinion       0.46      0.40      0.43       195\n",
            "        B-Origin       0.46      0.37      0.41       190\n",
            "          B-Plot       0.52      0.49      0.51      1577\n",
            "         B-Quote       0.81      0.36      0.50        47\n",
            "  B-Relationship       0.81      0.57      0.67       171\n",
            "    B-Soundtrack       0.00      0.00      0.00         8\n",
            "          B-Year       0.96      0.97      0.97       661\n",
            "         I-Actor       0.90      0.93      0.92      1553\n",
            "         I-Award       0.77      0.73      0.75       147\n",
            "I-Character_Name       0.73      0.51      0.60       227\n",
            "      I-Director       0.91      0.86      0.88       411\n",
            "         I-Genre       0.80      0.75      0.77       544\n",
            "       I-Opinion       0.31      0.14      0.19       143\n",
            "        I-Origin       0.66      0.67      0.67       808\n",
            "          I-Plot       0.86      0.94      0.90     14661\n",
            "         I-Quote       0.82      0.58      0.68       349\n",
            "  I-Relationship       0.66      0.54      0.59       289\n",
            "    I-Soundtrack       0.00      0.00      0.00        30\n",
            "          I-Year       0.68      0.64      0.66        44\n",
            "               O       0.88      0.84      0.86     14143\n",
            "\n",
            "        accuracy                           0.85     39035\n",
            "       macro avg       0.68      0.60      0.63     39035\n",
            "    weighted avg       0.84      0.85      0.84     39035\n",
            "\n",
            "(0.6811797758481852, 0.5999374551238256, 0.6314014583216424, None)\n"
          ]
        },
        {
          "output_type": "stream",
          "name": "stderr",
          "text": [
            "/usr/local/lib/python3.7/dist-packages/sklearn/metrics/_classification.py:1318: UndefinedMetricWarning: Precision and F-score are ill-defined and being set to 0.0 in labels with no predicted samples. Use `zero_division` parameter to control this behavior.\n",
            "  _warn_prf(average, modifier, msg_start, len(result))\n"
          ]
        }
      ]
    },
    {
      "cell_type": "markdown",
      "metadata": {
        "id": "fogF5FIMdMsj"
      },
      "source": [
        "MACRO AVERAGE F1 SCORE ON FINAL TEST SET: **0.63**"
      ]
    }
  ]
}